{
 "cells": [
  {
   "cell_type": "markdown",
   "id": "e624d4fc",
   "metadata": {},
   "source": [
    "# Normalization"
   ]
  },
  {
   "cell_type": "markdown",
   "id": "6e55f2e5",
   "metadata": {},
   "source": [
    " normalization helps to make your data range as close as possible with all the features\n",
    " ex: you have a dataset that includes age and salary age starts from 20 to 60 while salaries starts from 10000 up   to 100k we gotta find a way that can make the age and the salaries close numerically"
   ]
  },
  {
   "cell_type": "markdown",
   "id": "51556c58",
   "metadata": {},
   "source": [
    "# 3 methods!"
   ]
  },
  {
   "cell_type": "markdown",
   "id": "bfc8c6d2",
   "metadata": {},
   "source": [
    "<h1>1- Simple Feature Scaling</h1> <h2>x new  = x old / x max </h2>\n",
    "\n",
    "ex:lets normalize a column called length\n",
    "\n",
    "<h3>df['length'] = df['length'] / df['length'].max()</h3>\n",
    "\n",
    "\n",
    "<h1>2- Min-Max</h1> <h2>x new = x old - x min / x max - x min</h2>\n",
    "\n",
    "<h3>df['length'] = df['length'] - df['length'].min() / df['length'].max() - df['length'].min() </h3>\n",
    "\n",
    "\n",
    "<h1>3- Z-score </h1> <h2>x new = x old - mean / stdev</h2>\n",
    "\n",
    "<h3>df['length'] = (df['length'] - df['length'].mean()) / df['length'].std()</h3>\n"
   ]
  },
  {
   "cell_type": "code",
   "execution_count": null,
   "id": "296fd2a6",
   "metadata": {},
   "outputs": [],
   "source": []
  }
 ],
 "metadata": {
  "kernelspec": {
   "display_name": "Python 3 (ipykernel)",
   "language": "python",
   "name": "python3"
  },
  "language_info": {
   "codemirror_mode": {
    "name": "ipython",
    "version": 3
   },
   "file_extension": ".py",
   "mimetype": "text/x-python",
   "name": "python",
   "nbconvert_exporter": "python",
   "pygments_lexer": "ipython3",
   "version": "3.11.3"
  }
 },
 "nbformat": 4,
 "nbformat_minor": 5
}
