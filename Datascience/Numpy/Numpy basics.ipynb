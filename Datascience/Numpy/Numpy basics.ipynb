{
 "cells": [
  {
   "cell_type": "code",
   "execution_count": 5,
   "id": "26800bc5",
   "metadata": {},
   "outputs": [],
   "source": [
    "import numpy as np"
   ]
  },
  {
   "cell_type": "code",
   "execution_count": 11,
   "id": "e0973ba0",
   "metadata": {},
   "outputs": [
    {
     "name": "stdout",
     "output_type": "stream",
     "text": [
      "[1 2 3 4 5 6]\n"
     ]
    }
   ],
   "source": [
    "## ARRAYS IN NUMPY\n",
    "a = np.array([1,2,3,4,5,6])\n",
    "print(a)"
   ]
  },
  {
   "cell_type": "code",
   "execution_count": 17,
   "id": "af189a20",
   "metadata": {},
   "outputs": [],
   "source": [
    "###array indexing\n",
    "a[5]\n",
    "a[3] = 69\n",
    "### its just like list in python"
   ]
  },
  {
   "cell_type": "code",
   "execution_count": 19,
   "id": "dbf195c9",
   "metadata": {},
   "outputs": [
    {
     "name": "stdout",
     "output_type": "stream",
     "text": [
      "[ 1  2  3 69  5  6]\n"
     ]
    }
   ],
   "source": [
    "print(a)"
   ]
  },
  {
   "cell_type": "code",
   "execution_count": 74,
   "id": "ed8481e4",
   "metadata": {},
   "outputs": [
    {
     "name": "stdout",
     "output_type": "stream",
     "text": [
      "[[1 2 3]\n",
      " [4 5 6]\n",
      " [7 8 9]]\n"
     ]
    },
    {
     "data": {
      "text/plain": [
       "9"
      ]
     },
     "execution_count": 74,
     "metadata": {},
     "output_type": "execute_result"
    }
   ],
   "source": [
    "#3d array\n",
    "b = np.array([[1,2,3],[4,5,6],[7,8,9],])\n",
    "c = np.array([[1,2,3,100],[4,5,6,200],[7,8,9,300],[1,1,1,1]])\n",
    "print(b)\n",
    "b[2,2] #indexing (9) is in row 3 col 3! \n",
    "       #             or row 2 col 2 for zero indexing (:"
   ]
  },
  {
   "cell_type": "code",
   "execution_count": 75,
   "id": "f4ccb19a",
   "metadata": {},
   "outputs": [
    {
     "data": {
      "text/plain": [
       "2"
      ]
     },
     "execution_count": 75,
     "metadata": {},
     "output_type": "execute_result"
    }
   ],
   "source": [
    "### ARRAY ATTRIBUTES!\n",
    "b.ndim # Number of dimensions of an array\n"
   ]
  },
  {
   "cell_type": "code",
   "execution_count": 81,
   "id": "04986f4f",
   "metadata": {},
   "outputs": [
    {
     "name": "stdout",
     "output_type": "stream",
     "text": [
      "(3, 3)\n",
      "(4, 4)\n",
      "9\n",
      "16\n"
     ]
    }
   ],
   "source": [
    "print(b.shape) ### Number of Elements along each dimension\n",
    "print(c.shape) ### Number of rows, colums\n",
    "print(b.size)  ### Numbers of items in the whole array\n",
    "print(c.size)"
   ]
  },
  {
   "cell_type": "code",
   "execution_count": 130,
   "id": "99274e9c",
   "metadata": {},
   "outputs": [],
   "source": [
    "c = np.arange(0,15,2) ### start from 0 to 100 jump 2 then store the values in array called c\n",
    "y = np.arange(1,10)### it's a basic for loop then stored in list!\n",
    "x = np.linspace(1,100,5) ### start from 0 to 10 but seperate it into 5 values(percentages)!\n",
    "### the out if by default is in float lets convert it into integers!\n",
    "xx = np.linspace(0,100,5,dtype=int)"
   ]
  },
  {
   "cell_type": "code",
   "execution_count": 133,
   "id": "6deb3c94",
   "metadata": {},
   "outputs": [
    {
     "name": "stdout",
     "output_type": "stream",
     "text": [
      "[  0  25  50  75 100]\n",
      "[  1.    25.75  50.5   75.25 100.  ]\n",
      "[1 2 3 4 5 6 7 8 9]\n"
     ]
    }
   ],
   "source": [
    "print(xx)\n",
    "print(x)\n",
    "print(y)"
   ]
  },
  {
   "cell_type": "code",
   "execution_count": null,
   "id": "d86b4b19",
   "metadata": {},
   "outputs": [],
   "source": []
  }
 ],
 "metadata": {
  "kernelspec": {
   "display_name": "Python 3 (ipykernel)",
   "language": "python",
   "name": "python3"
  },
  "language_info": {
   "codemirror_mode": {
    "name": "ipython",
    "version": 3
   },
   "file_extension": ".py",
   "mimetype": "text/x-python",
   "name": "python",
   "nbconvert_exporter": "python",
   "pygments_lexer": "ipython3",
   "version": "3.11.3"
  }
 },
 "nbformat": 4,
 "nbformat_minor": 5
}
